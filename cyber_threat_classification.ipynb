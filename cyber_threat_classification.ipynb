{
  "cells": [
    {
      "cell_type": "markdown",
      "metadata": {
        "id": "view-in-github",
        "colab_type": "text"
      },
      "source": [
        "<a href=\"https://colab.research.google.com/github/darshnkd/cybersecurity-threat-classification/blob/main/cyber_threat_classification.ipynb\" target=\"_parent\"><img src=\"https://colab.research.google.com/assets/colab-badge.svg\" alt=\"Open In Colab\"/></a>"
      ]
    },
    {
      "cell_type": "markdown",
      "metadata": {
        "id": "xqHMqSdnZ6-P"
      },
      "source": [
        "# How to Run the Code\n",
        "\n",
        "## Run on Google Colab\n",
        "1. **Open Google Colab**\n",
        "- Go to [Google Colab] (https://colab.research.google.com/)\n",
        "- Click on **\"Upload Notebook\"**\n",
        "- Select 'Cybersecurity_Threat_classification.ipynb'\n",
        "\n",
        "2. **Connect to GPU (optional for MLP Training)**\n",
        "- In Colab, go to **Runtime** -> **Change runtime type**\n",
        "- Select **GPU** and click **Save**\n",
        "\n",
        "3. **Mount Google Drive & Load Dataset**\n",
        "- Run the first cell in the  notebook to mount your Google Drive:\n",
        "  ```python\n",
        "  from google.colab import drive\n",
        "  drive.mount('/content/drive')\n",
        "  - Upload the dataset ('CICIDS2017') to your drive and update the dataset path in the notebook accordingly.\n",
        "  - To upload the dataset on your drive first you can download the dataset from kaggle or you can use kaggle API.```\n",
        "\n",
        "4. ** Install required libraries** (if not alredy installed)\n",
        "- The notebook contain cell for installing dependencies. Run:\n",
        "  ``` python\n",
        "  !pip install pandas numpy scikit-learn matplotlib seaborn torch imbalanced-learn.```\n",
        "\n",
        "5. **Run the Notebook**\n",
        "- Execute each cell sequentially by clicking the **shift+enter**\n",
        "- The notebook will load the dataset,preprocess it, train the model, and display evaluation results.\n"
      ]
    },
    {
      "cell_type": "markdown",
      "metadata": {
        "id": "1toappd1Rvm5"
      },
      "source": [
        "## **CyberSecurity Threat Classification**"
      ]
    },
    {
      "cell_type": "code",
      "execution_count": null,
      "metadata": {
        "colab": {
          "base_uri": "https://localhost:8080/"
        },
        "id": "8fgNaFBSbtCo",
        "outputId": "47f1374c-5ff0-4c05-c5ff-d406be27decc"
      },
      "outputs": [
        {
          "output_type": "stream",
          "name": "stdout",
          "text": [
            "Drive already mounted at /content/drive; to attempt to forcibly remount, call drive.mount(\"/content/drive\", force_remount=True).\n"
          ]
        }
      ],
      "source": [
        "# Mount Google Drive\n",
        "from google.colab import drive\n",
        "drive.mount('/content/drive')"
      ]
    },
    {
      "cell_type": "code",
      "execution_count": null,
      "metadata": {
        "colab": {
          "base_uri": "https://localhost:8080/"
        },
        "id": "jVoqXhZrY9Su",
        "outputId": "ab987f4b-4151-49ca-bbf4-811dd8e54fec"
      },
      "outputs": [
        {
          "output_type": "stream",
          "name": "stdout",
          "text": [
            " Classroom\t\t IMG20250204120505.jpg\t kaggle.json\n",
            "'Colab Notebooks'\t IMG20250204120506.jpg\t'Untitled document.gdoc'\n",
            " IMG20250204120446.jpg\t IMG20250204120508.jpg\n"
          ]
        }
      ],
      "source": [
        "!ls /content/drive/MyDrive/"
      ]
    },
    {
      "cell_type": "code",
      "execution_count": null,
      "metadata": {
        "id": "AV4f8yw1cLd4"
      },
      "outputs": [],
      "source": [
        "# Create Kaggle directory and copy API key\n",
        "!mkdir -p ~/.kaggle\n",
        "!cp /content/drive/MyDrive/kaggle.json ~/.kaggle/\n",
        "\n",
        "# Set proper permissions\n",
        "!chmod 600 ~/.kaggle/kaggle.json"
      ]
    },
    {
      "cell_type": "markdown",
      "metadata": {
        "id": "wQOgXI0_SGre"
      },
      "source": [
        "### **1. Download the Dataset CICIDS2017**"
      ]
    },
    {
      "cell_type": "code",
      "execution_count": null,
      "metadata": {
        "colab": {
          "base_uri": "https://localhost:8080/"
        },
        "id": "E9glB5BIcSfQ",
        "outputId": "59b1cdd0-ca92-46a0-b5a3-370bdbc905b0"
      },
      "outputs": [
        {
          "output_type": "stream",
          "name": "stdout",
          "text": [
            "Dataset URL: https://www.kaggle.com/datasets/chethuhn/network-intrusion-dataset\n",
            "License(s): CC0-1.0\n",
            "network-intrusion-dataset.zip: Skipping, found more recently modified local copy (use --force to force download)\n"
          ]
        }
      ],
      "source": [
        "!kaggle datasets download -d chethuhn/network-intrusion-dataset"
      ]
    },
    {
      "cell_type": "code",
      "execution_count": null,
      "metadata": {
        "id": "0h2Ixa2Nmy6q"
      },
      "outputs": [],
      "source": [
        "import zipfile\n",
        "zipfile.ZipFile(\"network-intrusion-dataset.zip\", \"r\").extractall(\"dataset\")"
      ]
    },
    {
      "cell_type": "code",
      "execution_count": null,
      "metadata": {
        "colab": {
          "base_uri": "https://localhost:8080/"
        },
        "id": "7qSi4cKsm6VW",
        "outputId": "96150a46-4630-4126-c166-74fcf8dd2430"
      },
      "outputs": [
        {
          "output_type": "stream",
          "name": "stdout",
          "text": [
            "Friday-WorkingHours-Afternoon-DDos.pcap_ISCX.csv\n",
            "Friday-WorkingHours-Afternoon-PortScan.pcap_ISCX.csv\n",
            "Friday-WorkingHours-Morning.pcap_ISCX.csv\n",
            "Monday-WorkingHours.pcap_ISCX.csv\n",
            "Thursday-WorkingHours-Afternoon-Infilteration.pcap_ISCX.csv\n",
            "Thursday-WorkingHours-Morning-WebAttacks.pcap_ISCX.csv\n",
            "Tuesday-WorkingHours.pcap_ISCX.csv\n",
            "Wednesday-workingHours.pcap_ISCX.csv\n"
          ]
        }
      ],
      "source": [
        "!ls dataset/"
      ]
    },
    {
      "cell_type": "markdown",
      "metadata": {
        "id": "rbvFGIJiSuPA"
      },
      "source": [
        "### **2. Import  Necessary Libraries**"
      ]
    },
    {
      "cell_type": "code",
      "execution_count": null,
      "metadata": {
        "id": "SHsQGCQPoYxo"
      },
      "outputs": [],
      "source": [
        "import pandas as pd\n",
        "import numpy as np\n",
        "import matplotlib.pyplot as plt\n",
        "import seaborn as sns\n",
        "from sklearn.preprocessing import StandardScaler, LabelEncoder\n",
        "from sklearn.model_selection import train_test_split\n",
        "from sklearn.ensemble import RandomForestClassifier\n",
        "from sklearn.metrics import accuracy_score, precision_score, recall_score, f1_score, confusion_matrix, classification_report\n",
        "from sklearn.feature_selection import SelectKBest, f_classif\n",
        "import torch\n",
        "import torch.nn as nn\n",
        "import torch.optim as optim\n",
        "from torch.utils.data import Dataset, DataLoader\n",
        "import warnings\n",
        "warnings.filterwarnings('ignore')"
      ]
    },
    {
      "cell_type": "code",
      "execution_count": null,
      "metadata": {
        "colab": {
          "base_uri": "https://localhost:8080/"
        },
        "id": "4aHGyo4pn8xy",
        "outputId": "17181bc0-7e46-4fc9-f794-02bcfd4ef7f6"
      },
      "outputs": [
        {
          "output_type": "execute_result",
          "data": {
            "text/plain": [
              "<torch._C.Generator at 0x79b6a987ccf0>"
            ]
          },
          "metadata": {},
          "execution_count": 8
        }
      ],
      "source": [
        "# Set random seed for reproducibility\n",
        "np.random.seed(42)\n",
        "torch.manual_seed(43)"
      ]
    },
    {
      "cell_type": "markdown",
      "metadata": {
        "id": "WkkQ448eS50q"
      },
      "source": [
        "### **3. Load the Dataset**"
      ]
    },
    {
      "cell_type": "code",
      "execution_count": null,
      "metadata": {
        "id": "uFiv9rXqnP8H"
      },
      "outputs": [],
      "source": [
        "# Create function to load data\n",
        "def load_data(filepaths):\n",
        "  \"Load CIS IDC 2017 Dataset\"\n",
        "\n",
        "  all_dfs=[]\n",
        "  for filepath in filepaths:\n",
        "    print(f\"Loading Dataset...\")\n",
        "    df=pd.read_csv(filepath)\n",
        "    print(f\"Loaded {filepath} : Shape  {df.shape}\")\n",
        "    all_dfs.append(df)\n",
        "\n",
        "  # Concatenate all dataframe\n",
        "  final_df = pd.concat(all_dfs, ignore_index=True)\n",
        "  print(f\"\\nFinal Dataset Shape :{final_df.shape} \")\n",
        "\n",
        "  # Display the preview of dataset\n",
        "  print(\"\\nPreview of Dataset\")\n",
        "  print(final_df.head())\n",
        "\n",
        "  # List all the columns\n",
        "  print(\"\\nAll columns in dataset:\")\n",
        "  print(final_df.columns)\n",
        "\n",
        "  return final_df"
      ]
    },
    {
      "cell_type": "code",
      "execution_count": null,
      "metadata": {
        "colab": {
          "base_uri": "https://localhost:8080/"
        },
        "id": "C6UHEafHq97H",
        "outputId": "aa92baf2-a0bc-4b8e-e558-4f53e8c86874"
      },
      "outputs": [
        {
          "output_type": "stream",
          "name": "stdout",
          "text": [
            "Loading Dataset...\n",
            "Loaded dataset/Friday-WorkingHours-Afternoon-DDos.pcap_ISCX.csv : Shape  (225745, 79)\n",
            "Loading Dataset...\n",
            "Loaded dataset/Friday-WorkingHours-Afternoon-PortScan.pcap_ISCX.csv : Shape  (286467, 79)\n",
            "Loading Dataset...\n",
            "Loaded dataset/Friday-WorkingHours-Morning.pcap_ISCX.csv : Shape  (191033, 79)\n",
            "Loading Dataset...\n",
            "Loaded dataset/Monday-WorkingHours.pcap_ISCX.csv : Shape  (529918, 79)\n",
            "Loading Dataset...\n",
            "Loaded dataset/Thursday-WorkingHours-Afternoon-Infilteration.pcap_ISCX.csv : Shape  (288602, 79)\n",
            "Loading Dataset...\n",
            "Loaded dataset/Thursday-WorkingHours-Morning-WebAttacks.pcap_ISCX.csv : Shape  (170366, 79)\n",
            "Loading Dataset...\n",
            "Loaded dataset/Tuesday-WorkingHours.pcap_ISCX.csv : Shape  (445909, 79)\n",
            "Loading Dataset...\n",
            "Loaded dataset/Wednesday-workingHours.pcap_ISCX.csv : Shape  (692703, 79)\n",
            "\n",
            "Final Dataset Shape :(2830743, 79) \n",
            "\n",
            "Preview of Dataset\n",
            "    Destination Port   Flow Duration   Total Fwd Packets  \\\n",
            "0              54865               3                   2   \n",
            "1              55054             109                   1   \n",
            "2              55055              52                   1   \n",
            "3              46236              34                   1   \n",
            "4              54863               3                   2   \n",
            "\n",
            "    Total Backward Packets  Total Length of Fwd Packets  \\\n",
            "0                        0                           12   \n",
            "1                        1                            6   \n",
            "2                        1                            6   \n",
            "3                        1                            6   \n",
            "4                        0                           12   \n",
            "\n",
            "    Total Length of Bwd Packets   Fwd Packet Length Max  \\\n",
            "0                             0                       6   \n",
            "1                             6                       6   \n",
            "2                             6                       6   \n",
            "3                             6                       6   \n",
            "4                             0                       6   \n",
            "\n",
            "    Fwd Packet Length Min   Fwd Packet Length Mean   Fwd Packet Length Std  \\\n",
            "0                       6                      6.0                     0.0   \n",
            "1                       6                      6.0                     0.0   \n",
            "2                       6                      6.0                     0.0   \n",
            "3                       6                      6.0                     0.0   \n",
            "4                       6                      6.0                     0.0   \n",
            "\n",
            "   ...   min_seg_size_forward  Active Mean   Active Std   Active Max  \\\n",
            "0  ...                     20          0.0          0.0            0   \n",
            "1  ...                     20          0.0          0.0            0   \n",
            "2  ...                     20          0.0          0.0            0   \n",
            "3  ...                     20          0.0          0.0            0   \n",
            "4  ...                     20          0.0          0.0            0   \n",
            "\n",
            "    Active Min  Idle Mean   Idle Std   Idle Max   Idle Min   Label  \n",
            "0            0        0.0        0.0          0          0  BENIGN  \n",
            "1            0        0.0        0.0          0          0  BENIGN  \n",
            "2            0        0.0        0.0          0          0  BENIGN  \n",
            "3            0        0.0        0.0          0          0  BENIGN  \n",
            "4            0        0.0        0.0          0          0  BENIGN  \n",
            "\n",
            "[5 rows x 79 columns]\n",
            "\n",
            "All columns in dataset:\n",
            "Index([' Destination Port', ' Flow Duration', ' Total Fwd Packets',\n",
            "       ' Total Backward Packets', 'Total Length of Fwd Packets',\n",
            "       ' Total Length of Bwd Packets', ' Fwd Packet Length Max',\n",
            "       ' Fwd Packet Length Min', ' Fwd Packet Length Mean',\n",
            "       ' Fwd Packet Length Std', 'Bwd Packet Length Max',\n",
            "       ' Bwd Packet Length Min', ' Bwd Packet Length Mean',\n",
            "       ' Bwd Packet Length Std', 'Flow Bytes/s', ' Flow Packets/s',\n",
            "       ' Flow IAT Mean', ' Flow IAT Std', ' Flow IAT Max', ' Flow IAT Min',\n",
            "       'Fwd IAT Total', ' Fwd IAT Mean', ' Fwd IAT Std', ' Fwd IAT Max',\n",
            "       ' Fwd IAT Min', 'Bwd IAT Total', ' Bwd IAT Mean', ' Bwd IAT Std',\n",
            "       ' Bwd IAT Max', ' Bwd IAT Min', 'Fwd PSH Flags', ' Bwd PSH Flags',\n",
            "       ' Fwd URG Flags', ' Bwd URG Flags', ' Fwd Header Length',\n",
            "       ' Bwd Header Length', 'Fwd Packets/s', ' Bwd Packets/s',\n",
            "       ' Min Packet Length', ' Max Packet Length', ' Packet Length Mean',\n",
            "       ' Packet Length Std', ' Packet Length Variance', 'FIN Flag Count',\n",
            "       ' SYN Flag Count', ' RST Flag Count', ' PSH Flag Count',\n",
            "       ' ACK Flag Count', ' URG Flag Count', ' CWE Flag Count',\n",
            "       ' ECE Flag Count', ' Down/Up Ratio', ' Average Packet Size',\n",
            "       ' Avg Fwd Segment Size', ' Avg Bwd Segment Size',\n",
            "       ' Fwd Header Length.1', 'Fwd Avg Bytes/Bulk', ' Fwd Avg Packets/Bulk',\n",
            "       ' Fwd Avg Bulk Rate', ' Bwd Avg Bytes/Bulk', ' Bwd Avg Packets/Bulk',\n",
            "       'Bwd Avg Bulk Rate', 'Subflow Fwd Packets', ' Subflow Fwd Bytes',\n",
            "       ' Subflow Bwd Packets', ' Subflow Bwd Bytes', 'Init_Win_bytes_forward',\n",
            "       ' Init_Win_bytes_backward', ' act_data_pkt_fwd',\n",
            "       ' min_seg_size_forward', 'Active Mean', ' Active Std', ' Active Max',\n",
            "       ' Active Min', 'Idle Mean', ' Idle Std', ' Idle Max', ' Idle Min',\n",
            "       ' Label'],\n",
            "      dtype='object')\n"
          ]
        }
      ],
      "source": [
        "filepaths = ['dataset/Friday-WorkingHours-Afternoon-DDos.pcap_ISCX.csv','dataset/Friday-WorkingHours-Afternoon-PortScan.pcap_ISCX.csv',\n",
        "             'dataset/Friday-WorkingHours-Morning.pcap_ISCX.csv','dataset/Monday-WorkingHours.pcap_ISCX.csv',\n",
        "             'dataset/Thursday-WorkingHours-Afternoon-Infilteration.pcap_ISCX.csv','dataset/Thursday-WorkingHours-Morning-WebAttacks.pcap_ISCX.csv',\n",
        "             'dataset/Tuesday-WorkingHours.pcap_ISCX.csv','dataset/Wednesday-workingHours.pcap_ISCX.csv']\n",
        "\n",
        "final_df = load_data(filepaths)"
      ]
    },
    {
      "cell_type": "code",
      "execution_count": null,
      "metadata": {
        "id": "bvVXUbuf318T"
      },
      "outputs": [],
      "source": [
        "# Remove the extra spaces from the columns names\n",
        "final_df.columns = final_df.columns.str.strip()"
      ]
    },
    {
      "cell_type": "markdown",
      "metadata": {
        "id": "4iYxatA6TRVF"
      },
      "source": [
        "### **4. Check the Unique Labels and Visualize the Target Distribution**"
      ]
    },
    {
      "cell_type": "code",
      "execution_count": null,
      "metadata": {
        "colab": {
          "base_uri": "https://localhost:8080/"
        },
        "id": "A9Ij9ZDtq927",
        "outputId": "2890d495-1ec3-490a-8bfa-2128d8295fac"
      },
      "outputs": [
        {
          "output_type": "stream",
          "name": "stdout",
          "text": [
            "['BENIGN' 'DDoS' 'PortScan' 'Bot' 'Infiltration'\n",
            " 'Web Attack � Brute Force' 'Web Attack � XSS'\n",
            " 'Web Attack � Sql Injection' 'FTP-Patator' 'SSH-Patator' 'DoS slowloris'\n",
            " 'DoS Slowhttptest' 'DoS Hulk' 'DoS GoldenEye' 'Heartbleed']\n"
          ]
        }
      ],
      "source": [
        "# Check unique values in label column\n",
        "print(final_df['Label'].unique())"
      ]
    },
    {
      "cell_type": "code",
      "execution_count": null,
      "metadata": {
        "colab": {
          "base_uri": "https://localhost:8080/",
          "height": 607
        },
        "id": "q3kz3yQdq91H",
        "outputId": "5b54105e-61e5-4ea3-cd8d-52b793c0715d"
      },
      "outputs": [
        {
          "output_type": "display_data",
          "data": {
            "text/plain": [
              "<Figure size 800x600 with 1 Axes>"
            ],
            "image/png": "[encoded data removed]"
          },
          "metadata": {}
        }
      ],
      "source": [
        "# Visualize the target distributions\n",
        "plt.figure(figsize=(8,6))\n",
        "sns.countplot(x='Label',data=final_df)\n",
        "plt.title('Target Distribution')\n",
        "plt.xticks(rotation=90)\n",
        "plt.tight_layout()\n",
        "plt.show();"
      ]
    },
    {
      "cell_type": "markdown",
      "metadata": {
        "id": "d0M72IH8Tf54"
      },
      "source": [
        "### **5. Count the Samples in Each Class**"
      ]
    },
    {
      "cell_type": "code",
      "execution_count": null,
      "metadata": {
        "colab": {
          "base_uri": "https://localhost:8080/"
        },
        "id": "uTVf7resq94y",
        "outputId": "c3d402b0-b51b-489e-b1d9-a1600150293c"
      },
      "outputs": [
        {
          "output_type": "stream",
          "name": "stdout",
          "text": [
            "Label\n",
            "BENIGN                        2273097\n",
            "DoS Hulk                       231073\n",
            "PortScan                       158930\n",
            "DDoS                           128027\n",
            "DoS GoldenEye                   10293\n",
            "FTP-Patator                      7938\n",
            "SSH-Patator                      5897\n",
            "DoS slowloris                    5796\n",
            "DoS Slowhttptest                 5499\n",
            "Bot                              1966\n",
            "Web Attack � Brute Force         1507\n",
            "Web Attack � XSS                  652\n",
            "Infiltration                       36\n",
            "Web Attack � Sql Injection         21\n",
            "Heartbleed                         11\n",
            "Name: count, dtype: int64\n"
          ]
        }
      ],
      "source": [
        "\n",
        "# Show the target distribution\n",
        "print(final_df['Label'].value_counts())"
      ]
    },
    {
      "cell_type": "markdown",
      "metadata": {
        "id": "urvwTby9Ny0M"
      },
      "source": [
        "### **6. Data Preprocessing**"
      ]
    },
    {
      "cell_type": "code",
      "execution_count": null,
      "metadata": {
        "id": "amHHHOqsq9zB"
      },
      "outputs": [],
      "source": [
        "# Make the function Preprocess the data\n",
        "def preprocess_data(df):\n",
        "  \"Clean and Preprocess tha Data\"\n",
        "  print(\"\\nPreprocessing the Data...\")\n",
        "\n",
        "  # Check memory usages\n",
        "  print(f\"\\nMemory usages before optimization : {df.memory_usage(deep=True).sum()/1024**2:.2f}MB\")\n",
        "\n",
        "  # Downcaste numericals columns to save memory\n",
        "  df = df.copy()\n",
        "  for col in df.select_dtypes(include=['int64']).columns:\n",
        "    df[col] = pd.to_numeric(df[col],downcast='integer')\n",
        "\n",
        "  for col in df.select_dtypes(include=['float64']).columns:\n",
        "    df[col] = pd.to_numeric(df[col],downcast='float')\n",
        "\n",
        "  # Check memory usages\n",
        "  print(f\"\\nMemory usages after optimization :{df.memory_usage(deep=True).sum()/1024**2:.2f}MB\")\n",
        "\n",
        "  # Remove or replace the infinity values\n",
        "  for col in df.select_dtypes(include=[np.number]).columns:\n",
        "    df[col] = df[col].replace([np.inf,-np.inf],np.nan)\n",
        "\n",
        "  # Check for missing values\n",
        "  missing_values = df.isnull().sum()\n",
        "  print(f\"\\nMissing values: {missing_values[missing_values > 0]}\")\n",
        "\n",
        "  # Visualize the missing values\n",
        "  if missing_values.sum() > 0:\n",
        "    sample_df = df.sample(n=50000,random_state=42)\n",
        "    plt.figure(figsize=(8,6))\n",
        "    sns.heatmap(sample_df.isnull(),cbar=False,yticklabels=False,cmap='viridis')\n",
        "    plt.title('Missing Values Heatmap(Sampled Data)')\n",
        "    plt.tight_layout()\n",
        "    plt.show();\n",
        "\n",
        "  # Drops rows with missing values\n",
        "  df_clean = df.dropna().copy()\n",
        "  print(f\"Dataset shape after dropping missing values: {df_clean.shape}\")\n",
        "\n",
        "  # Encode Categorial features\n",
        "  le = LabelEncoder()\n",
        "\n",
        "  # Indentify the categorical columns (excluding the target variable)\n",
        "  cat_cols = [col for col in df_clean.columns if df_clean[col].dtype == 'object' and col != 'Label']\n",
        "  print(f\"\\nCategorial columns : {cat_cols}\")\n",
        "\n",
        "  # Apply label encoding\n",
        "  for col in cat_cols:\n",
        "    df_clean[col] = le.fit_transform(df_clean[col])\n",
        "\n",
        "  # Encode the target variables\n",
        "  target_encoder = LabelEncoder()\n",
        "  df_clean['Label'] = target_encoder.fit_transform(df_clean['Label'])\n",
        "\n",
        "  # Store the target encoding mapping for later reference\n",
        "  target_mapping = dict(zip(target_encoder.classes_,range(len(target_encoder.classes_))))\n",
        "  print(f\"\\nTarget variable encoding:\")\n",
        "  for Original, encoded in target_mapping.items():\n",
        "    print(f\"{Original}->{encoded}\")\n",
        "\n",
        "  return df_clean , target_mapping , target_encoder"
      ]
    },
    {
      "cell_type": "code",
      "execution_count": null,
      "metadata": {
        "colab": {
          "base_uri": "https://localhost:8080/",
          "height": 1000
        },
        "id": "fFQ122Vxq9xN",
        "outputId": "a0476582-c9e6-4d06-a192-ecfa99e81526"
      },
      "outputs": [
        {
          "output_type": "stream",
          "name": "stdout",
          "text": [
            "\n",
            "Preprocessing the Data...\n",
            "\n",
            "Memory usages before optimization : 1855.53MB\n",
            "\n",
            "Memory usages after optimization :1013.25MB\n",
            "\n",
            "Missing values: Flow Bytes/s      2867\n",
            "Flow Packets/s    2867\n",
            "dtype: int64\n"
          ]
        },
        {
          "output_type": "display_data",
          "data": {
            "text/plain": [
              "<Figure size 800x600 with 1 Axes>"
            ],
            "image/png": "[encoded data removed]"
          },
          "metadata": {}
        },
        {
          "output_type": "stream",
          "name": "stdout",
          "text": [
            "Dataset shape after dropping missing values: (2827876, 79)\n",
            "\n",
            "Categorial columns : []\n",
            "\n",
            "Target variable encoding:\n",
            "BENIGN->0\n",
            "Bot->1\n",
            "DDoS->2\n",
            "DoS GoldenEye->3\n",
            "DoS Hulk->4\n",
            "DoS Slowhttptest->5\n",
            "DoS slowloris->6\n",
            "FTP-Patator->7\n",
            "Heartbleed->8\n",
            "Infiltration->9\n",
            "PortScan->10\n",
            "SSH-Patator->11\n",
            "Web Attack � Brute Force->12\n",
            "Web Attack � Sql Injection->13\n",
            "Web Attack � XSS->14\n"
          ]
        }
      ],
      "source": [
        "cleaned_df, target_mapping, target_encoder = preprocess_data(final_df)"
      ]
    },
    {
      "cell_type": "markdown",
      "metadata": {
        "id": "jvrPPLvtKov-"
      },
      "source": [
        "### **7. Feature Selection**"
      ]
    },
    {
      "cell_type": "code",
      "execution_count": null,
      "metadata": {
        "id": "YBtTa4ukq9vH"
      },
      "outputs": [],
      "source": [
        "def select_features(df,target_col,k=15):\n",
        "  \"Select the top k most revelent features using SelectKBest\"\n",
        "\n",
        "  # Seperate the feature and target\n",
        "  X = df.drop(columns=[target_col])\n",
        "  y = df[target_col]\n",
        "\n",
        "  # Apply SelectKBest with f_classif (ANOVA F-value)\n",
        "  selector = SelectKBest(f_classif,k=k)\n",
        "  X_new = selector.fit_transform(X,y)\n",
        "\n",
        "  # Get the selected feature names\n",
        "  selected_col = X.columns[selector.get_support()]\n",
        "  print(f\"\\nTop {k} selected features:\")\n",
        "  for col in selected_col:\n",
        "    print(f\" - {col}\")\n",
        "\n",
        "  # Feature importance score\n",
        "  importance_score  = selector.scores_\n",
        "  feature_importance = pd.DataFrame({\n",
        "      'Feature' : X.columns,\n",
        "      'Importance Score' : importance_score\n",
        "  }).sort_values(by='Importance Score',ascending=False)\n",
        "\n",
        "  # Create new dataframe with only selected features\n",
        "  selected_df = pd.DataFrame(X_new,columns=selected_col)\n",
        "  selected_df[target_col] = y.values\n",
        "\n",
        "  return selected_df, selected_col, feature_importance"
      ]
    },
    {
      "cell_type": "code",
      "execution_count": null,
      "metadata": {
        "colab": {
          "base_uri": "https://localhost:8080/"
        },
        "id": "DjB39UCGq9tT",
        "outputId": "2291c142-4a90-4872-8c2a-ad738b8d334b"
      },
      "outputs": [
        {
          "output_type": "stream",
          "name": "stdout",
          "text": [
            "\n",
            "Top 15 selected features:\n",
            " - Bwd Packet Length Max\n",
            " - Bwd Packet Length Mean\n",
            " - Bwd Packet Length Std\n",
            " - Flow IAT Max\n",
            " - Fwd IAT Std\n",
            " - Fwd IAT Max\n",
            " - Max Packet Length\n",
            " - Packet Length Mean\n",
            " - Packet Length Std\n",
            " - Packet Length Variance\n",
            " - Average Packet Size\n",
            " - Avg Bwd Segment Size\n",
            " - Idle Mean\n",
            " - Idle Max\n",
            " - Idle Min\n"
          ]
        }
      ],
      "source": [
        "selected_df, selected_col, features_importance = select_features(cleaned_df, 'Label',k=15 )"
      ]
    },
    {
      "cell_type": "markdown",
      "metadata": {
        "id": "atIiV2qdyOJF"
      },
      "source": [
        "### **8. Data Splitting and Scaling**"
      ]
    },
    {
      "cell_type": "code",
      "execution_count": null,
      "metadata": {
        "id": "NW5cOOPbq9rO"
      },
      "outputs": [],
      "source": [
        "from imblearn.over_sampling import SMOTE\n",
        "from imblearn.under_sampling import RandomUnderSampler\n",
        "from sklearn.preprocessing import StandardScaler\n",
        "from sklearn.model_selection import train_test_split\n",
        "import joblib\n",
        "\n",
        "def prepare_data_for_training(df, target_col, test_size=0.2):\n",
        "    \"\"\"Split Data, Apply Hybrid Sampling (SMOTE + Undersampling), and Scale Features\"\"\"\n",
        "    print(\"\\nPreparing data for training...\")\n",
        "\n",
        "    # Split into features and target\n",
        "    X = df.drop(columns=[target_col])\n",
        "    y = df[target_col]\n",
        "\n",
        "    # Split into training and testing sets\n",
        "    X_train, X_test, y_train, y_test = train_test_split(X, y, test_size=test_size, random_state=42, stratify=y)\n",
        "\n",
        "    print(f\"Training set shape before Sampling: {X_train.shape}\")\n",
        "    print(y_train.value_counts())\n",
        "\n",
        "    # Define SMOTE sampling strategy: Increase minority classes by 50%\n",
        "    majority_class_count = y_train.value_counts().max()\n",
        "    smote_strategy = {\n",
        "        cls: min(int(count * 1.5), majority_class_count)  # Increase by 50%\n",
        "        for cls, count in y_train.value_counts().items()\n",
        "        if count < majority_class_count  # Only oversample minority classes\n",
        "    }\n",
        "\n",
        "    # Apply SMOTE to oversample minority classes\n",
        "    smote = SMOTE(sampling_strategy=smote_strategy, random_state=42)\n",
        "    X_train_smote, y_train_smote = smote.fit_resample(X_train, y_train)\n",
        "\n",
        "    # Define undersampling strategy: Reduce the majority class to 40% of its original size\n",
        "    rus_strategy = {cls: int(count * 0.4) for cls, count in y_train_smote.value_counts().items() if count > majority_class_count * 0.5}\n",
        "\n",
        "    # Apply undersampling to balance the dataset\n",
        "    rus = RandomUnderSampler(sampling_strategy=rus_strategy, random_state=42)\n",
        "    X_train_final, y_train_final = rus.fit_resample(X_train_smote, y_train_smote)\n",
        "\n",
        "    print(f\"\\nTraining set shape after Hybrid Sampling: {X_train_final.shape}\")\n",
        "    print(y_train_final.value_counts())\n",
        "\n",
        "    # Standardize features\n",
        "    scaler = StandardScaler()\n",
        "    X_train_scaled = scaler.fit_transform(X_train_final)\n",
        "    X_test_scaled = scaler.transform(X_test)\n",
        "    joblib.dump(scaler, \"scaler.pkl\")\n",
        "    print(\"Scaler saved successfully as scaler.pkl\")\n",
        "\n",
        "\n",
        "\n",
        "    return X_train_scaled, X_test_scaled, y_train_final.values, y_test.values, scaler"
      ]
    },
    {
      "cell_type": "code",
      "execution_count": null,
      "metadata": {
        "colab": {
          "base_uri": "https://localhost:8080/"
        },
        "id": "u3PZsB7Fq9o5",
        "outputId": "a84a8617-51c0-49f5-8670-338e49094188"
      },
      "outputs": [
        {
          "output_type": "stream",
          "name": "stdout",
          "text": [
            "\n",
            "Preparing data for training...\n",
            "Training set shape before Sampling: (2262300, 15)\n",
            "Label\n",
            "0     1817055\n",
            "4      184099\n",
            "10     127043\n",
            "2      102420\n",
            "3        8234\n",
            "7        6348\n",
            "11       4717\n",
            "6        4637\n",
            "5        4399\n",
            "1        1565\n",
            "12       1206\n",
            "14        522\n",
            "9          29\n",
            "13         17\n",
            "8           9\n",
            "Name: count, dtype: int64\n",
            "\n",
            "Training set shape after Hybrid Sampling: (1394685, 15)\n",
            "Label\n",
            "0     726822\n",
            "4     276148\n",
            "10    190564\n",
            "2     153630\n",
            "3      12351\n",
            "7       9522\n",
            "11      7075\n",
            "6       6955\n",
            "5       6598\n",
            "1       2347\n",
            "12      1809\n",
            "14       783\n",
            "9         43\n",
            "13        25\n",
            "8         13\n",
            "Name: count, dtype: int64\n",
            "Scaler saved successfully as scaler.pkl\n"
          ]
        }
      ],
      "source": [
        "X_train_scaled, X_test_scaled, y_train_resampled, y_test,_ = prepare_data_for_training(selected_df,'Label')"
      ]
    },
    {
      "cell_type": "markdown",
      "metadata": {
        "id": "od90UTxIT8Qw"
      },
      "source": [
        "### **9. Model 1 (Random Forest)**"
      ]
    },
    {
      "cell_type": "code",
      "execution_count": null,
      "metadata": {
        "id": "oTbgQ54hKYgW"
      },
      "outputs": [],
      "source": [
        "# Random Forest Model\n",
        "def train_random_forest(X_train, y_train, X_test, y_test, n_estimators=100):\n",
        "  \"Train Random Forest Model and Evaluate the Performance\"\n",
        "\n",
        "  print(f\"Training Random Forest Model...\")\n",
        "\n",
        "  # Create and train the model\n",
        "  model = RandomForestClassifier(n_estimators=n_estimators, random_state=42, n_jobs=-1)\n",
        "  model.fit(X_train, y_train)\n",
        "\n",
        "  # Make predictions\n",
        "  y_preds = model.predict(X_test)\n",
        "\n",
        "  # Calculates the metrics\n",
        "  accuracy = accuracy_score(y_test,y_preds)\n",
        "  precision = precision_score(y_test,y_preds,average='weighted')\n",
        "  recall = recall_score(y_test,y_preds,average='weighted')\n",
        "  f1 = f1_score(y_test,y_preds,average='weighted')\n",
        "\n",
        "  print(f\"Model's Performance:\")\n",
        "  print(f\"Accuracy: {accuracy:.4f}\")\n",
        "  print(f\"Precision: {precision:.4f}\")\n",
        "  print(f\"Recall: {recall:.4f}\")\n",
        "  print(f\"F1 Score: {f1:.4f}\")\n",
        "\n",
        "  # Feature Importance\n",
        "  feature_importances = model.feature_importances_\n",
        "\n",
        "  return model, y_preds, {\n",
        "      'accuracy' : accuracy,\n",
        "      'precision' : precision,\n",
        "      'recall' : recall,\n",
        "      'f1' : f1\n",
        "  }, feature_importances"
      ]
    },
    {
      "cell_type": "markdown",
      "metadata": {
        "id": "hbmbwg0mUPL7"
      },
      "source": [
        "### **10. Evaluation Metrics**"
      ]
    },
    {
      "cell_type": "code",
      "execution_count": null,
      "metadata": {
        "colab": {
          "base_uri": "https://localhost:8080/"
        },
        "id": "RkAGR9QyfpaF",
        "outputId": "3b35401d-56ed-441f-ed63-8f656e60726d"
      },
      "outputs": [
        {
          "output_type": "stream",
          "name": "stdout",
          "text": [
            "Training Random Forest Model...\n",
            "Model's Performance:\n",
            "Accuracy: 0.9819\n",
            "Precision: 0.9838\n",
            "Recall: 0.9819\n",
            "F1 Score: 0.9822\n"
          ]
        }
      ],
      "source": [
        "model, y_preds, metrics, features_importance = train_random_forest(X_train_scaled,y_train_resampled,X_test_scaled,y_test)"
      ]
    },
    {
      "cell_type": "code",
      "execution_count": null,
      "metadata": {
        "colab": {
          "base_uri": "https://localhost:8080/"
        },
        "id": "D5ce_zMug8SL",
        "outputId": "dacc9427-54fc-49cb-c2ea-f964c43f64d5"
      },
      "outputs": [
        {
          "output_type": "stream",
          "name": "stdout",
          "text": [
            "              precision    recall  f1-score   support\n",
            "\n",
            "           0       1.00      0.98      0.99    454265\n",
            "           1       0.65      0.60      0.62       391\n",
            "           2       1.00      1.00      1.00     25605\n",
            "           3       0.97      0.99      0.98      2059\n",
            "           4       0.85      0.99      0.91     46025\n",
            "           5       0.96      0.99      0.97      1100\n",
            "           6       0.99      1.00      0.99      1159\n",
            "           7       0.94      1.00      0.97      1587\n",
            "           8       1.00      1.00      1.00         2\n",
            "           9       0.80      0.57      0.67         7\n",
            "          10       0.99      1.00      1.00     31761\n",
            "          11       0.99      0.53      0.69      1180\n",
            "          12       0.71      0.66      0.69       301\n",
            "          13       1.00      0.25      0.40         4\n",
            "          14       0.40      0.33      0.36       130\n",
            "\n",
            "    accuracy                           0.98    565576\n",
            "   macro avg       0.88      0.79      0.82    565576\n",
            "weighted avg       0.98      0.98      0.98    565576\n",
            "\n"
          ]
        }
      ],
      "source": [
        "print(classification_report(y_test,y_preds))"
      ]
    },
    {
      "cell_type": "code",
      "execution_count": null,
      "metadata": {
        "colab": {
          "base_uri": "https://localhost:8080/",
          "height": 17
        },
        "id": "z_rKdw_GSW-O",
        "outputId": "34be44ff-5d0f-4971-c898-0e5219f4d7c2"
      },
      "outputs": [
        {
          "output_type": "display_data",
          "data": {
            "text/plain": [
              "<IPython.core.display.Javascript object>"
            ],
            "application/javascript": [
              "\n",
              "    async function download(id, filename, size) {\n",
              "      if (!google.colab.kernel.accessAllowed) {\n",
              "        return;\n",
              "      }\n",
              "      const div = document.createElement('div');\n",
              "      const label = document.createElement('label');\n",
              "      label.textContent = `Downloading \"${filename}\": `;\n",
              "      div.appendChild(label);\n",
              "      const progress = document.createElement('progress');\n",
              "      progress.max = size;\n",
              "      div.appendChild(progress);\n",
              "      document.body.appendChild(div);\n",
              "\n",
              "      const buffers = [];\n",
              "      let downloaded = 0;\n",
              "\n",
              "      const channel = await google.colab.kernel.comms.open(id);\n",
              "      // Send a message to notify the kernel that we're ready.\n",
              "      channel.send({})\n",
              "\n",
              "      for await (const message of channel.messages) {\n",
              "        // Send a message to notify the kernel that we're ready.\n",
              "        channel.send({})\n",
              "        if (message.buffers) {\n",
              "          for (const buffer of message.buffers) {\n",
              "            buffers.push(buffer);\n",
              "            downloaded += buffer.byteLength;\n",
              "            progress.value = downloaded;\n",
              "          }\n",
              "        }\n",
              "      }\n",
              "      const blob = new Blob(buffers, {type: 'application/binary'});\n",
              "      const a = document.createElement('a');\n",
              "      a.href = window.URL.createObjectURL(blob);\n",
              "      a.download = filename;\n",
              "      div.appendChild(a);\n",
              "      a.click();\n",
              "      div.remove();\n",
              "    }\n",
              "  "
            ]
          },
          "metadata": {}
        },
        {
          "output_type": "display_data",
          "data": {
            "text/plain": [
              "<IPython.core.display.Javascript object>"
            ],
            "application/javascript": [
              "download(\"download_eee9929c-fcec-4fdf-a4f1-7de01031f87f\", \"random_forest_model.pkl\", 192643281)"
            ]
          },
          "metadata": {}
        }
      ],
      "source": [
        "import joblib\n",
        "\n",
        "# Save the trained model\n",
        "joblib.dump(model, \"random_forest_model.pkl\")\n",
        "\n",
        "# Download the model\n",
        "from google.colab import files\n",
        "files.download(\"random_forest_model.pkl\")"
      ]
    },
    {
      "cell_type": "code",
      "execution_count": null,
      "metadata": {
        "colab": {
          "base_uri": "https://localhost:8080/"
        },
        "id": "glSAcycmVUrH",
        "outputId": "3bc09dd3-ab94-47f9-f3e1-a31212df99ee"
      },
      "outputs": [
        {
          "output_type": "stream",
          "name": "stdout",
          "text": [
            "              precision    recall  f1-score   support\n",
            "\n",
            "           0       1.00      0.98      0.99    454265\n",
            "           1       0.65      0.60      0.62       391\n",
            "           2       1.00      1.00      1.00     25605\n",
            "           3       0.97      0.99      0.98      2059\n",
            "           4       0.85      0.99      0.91     46025\n",
            "           5       0.96      0.99      0.97      1100\n",
            "           6       0.99      1.00      0.99      1159\n",
            "           7       0.94      1.00      0.97      1587\n",
            "           8       1.00      1.00      1.00         2\n",
            "           9       0.80      0.57      0.67         7\n",
            "          10       0.99      1.00      1.00     31761\n",
            "          11       0.99      0.53      0.69      1180\n",
            "          12       0.71      0.66      0.69       301\n",
            "          13       1.00      0.25      0.40         4\n",
            "          14       0.40      0.33      0.36       130\n",
            "\n",
            "    accuracy                           0.98    565576\n",
            "   macro avg       0.88      0.79      0.82    565576\n",
            "weighted avg       0.98      0.98      0.98    565576\n",
            "\n"
          ]
        }
      ],
      "source": [
        "# Load the model\n",
        "loaded_rf = joblib.load(\"random_forest_model.pkl\")\n",
        "\n",
        "# Use the loaded model for predictions\n",
        "y_preds_rf = loaded_rf.predict(X_test_scaled)\n",
        "print(classification_report(y_test,y_preds_rf))"
      ]
    },
    {
      "cell_type": "markdown",
      "metadata": {
        "id": "qrlkiYqRmKEh"
      },
      "source": [
        "### **11. XGBoost Model**"
      ]
    },
    {
      "cell_type": "code",
      "execution_count": null,
      "metadata": {
        "colab": {
          "base_uri": "https://localhost:8080/",
          "height": 254
        },
        "id": "gNKVkwAMinGp",
        "outputId": "0524105f-460a-4253-fc27-20307b5b603b"
      },
      "outputs": [
        {
          "output_type": "execute_result",
          "data": {
            "text/plain": [
              "XGBClassifier(base_score=None, booster=None, callbacks=None,\n",
              "              colsample_bylevel=None, colsample_bynode=None,\n",
              "              colsample_bytree=None, device=None, early_stopping_rounds=None,\n",
              "              enable_categorical=False, eval_metric='mlogloss',\n",
              "              feature_types=None, gamma=None, grow_policy=None,\n",
              "              importance_type=None, interaction_constraints=None,\n",
              "              learning_rate=0.1, max_bin=None, max_cat_threshold=None,\n",
              "              max_cat_to_onehot=None, max_delta_step=None, max_depth=6,\n",
              "              max_leaves=None, min_child_weight=None, missing=nan,\n",
              "              monotone_constraints=None, multi_strategy=None, n_estimators=100,\n",
              "              n_jobs=None, num_class=15, num_parallel_tree=None, ...)"
            ],
            "text/html": [
              "<style>#sk-container-id-1 {\n",
              "  /* Definition of color scheme common for light and dark mode */\n",
              "  --sklearn-color-text: #000;\n",
              "  --sklearn-color-text-muted: #666;\n",
              "  --sklearn-color-line: gray;\n",
              "  /* Definition of color scheme for unfitted estimators */\n",
              "  --sklearn-color-unfitted-level-0: #fff5e6;\n",
              "  --sklearn-color-unfitted-level-1: #f6e4d2;\n",
              "  --sklearn-color-unfitted-level-2: #ffe0b3;\n",
              "  --sklearn-color-unfitted-level-3: chocolate;\n",
              "  /* Definition of color scheme for fitted estimators */\n",
              "  --sklearn-color-fitted-level-0: #f0f8ff;\n",
              "  --sklearn-color-fitted-level-1: #d4ebff;\n",
              "  --sklearn-color-fitted-level-2: #b3dbfd;\n",
              "  --sklearn-color-fitted-level-3: cornflowerblue;\n",
              "\n",
              "  /* Specific color for light theme */\n",
              "  --sklearn-color-text-on-default-background: var(--sg-text-color, var(--theme-code-foreground, var(--jp-content-font-color1, black)));\n",
              "  --sklearn-color-background: var(--sg-background-color, var(--theme-background, var(--jp-layout-color0, white)));\n",
              "  --sklearn-color-border-box: var(--sg-text-color, var(--theme-code-foreground, var(--jp-content-font-color1, black)));\n",
              "  --sklearn-color-icon: #696969;\n",
              "\n",
              "  @media (prefers-color-scheme: dark) {\n",
              "    /* Redefinition of color scheme for dark theme */\n",
              "    --sklearn-color-text-on-default-background: var(--sg-text-color, var(--theme-code-foreground, var(--jp-content-font-color1, white)));\n",
              "    --sklearn-color-background: var(--sg-background-color, var(--theme-background, var(--jp-layout-color0, #111)));\n",
              "    --sklearn-color-border-box: var(--sg-text-color, var(--theme-code-foreground, var(--jp-content-font-color1, white)));\n",
              "    --sklearn-color-icon: #878787;\n",
              "  }\n",
              "}\n",
              "\n",
              "#sk-container-id-1 {\n",
              "  color: var(--sklearn-color-text);\n",
              "}\n",
              "\n",
              "#sk-container-id-1 pre {\n",
              "  padding: 0;\n",
              "}\n",
              "\n",
              "#sk-container-id-1 input.sk-hidden--visually {\n",
              "  border: 0;\n",
              "  clip: rect(1px 1px 1px 1px);\n",
              "  clip: rect(1px, 1px, 1px, 1px);\n",
              "  height: 1px;\n",
              "  margin: -1px;\n",
              "  overflow: hidden;\n",
              "  padding: 0;\n",
              "  position: absolute;\n",
              "  width: 1px;\n",
              "}\n",
              "\n",
              "#sk-container-id-1 div.sk-dashed-wrapped {\n",
              "  border: 1px dashed var(--sklearn-color-line);\n",
              "  margin: 0 0.4em 0.5em 0.4em;\n",
              "  box-sizing: border-box;\n",
              "  padding-bottom: 0.4em;\n",
              "  background-color: var(--sklearn-color-background);\n",
              "}\n",
              "\n",
              "#sk-container-id-1 div.sk-container {\n",
              "  /* jupyter's `normalize.less` sets `[hidden] { display: none; }`\n",
              "     but bootstrap.min.css set `[hidden] { display: none !important; }`\n",
              "     so we also need the `!important` here to be able to override the\n",
              "     default hidden behavior on the sphinx rendered scikit-learn.org.\n",
              "     See: https://github.com/scikit-learn/scikit-learn/issues/21755 */\n",
              "  display: inline-block !important;\n",
              "  position: relative;\n",
              "}\n",
              "\n",
              "#sk-container-id-1 div.sk-text-repr-fallback {\n",
              "  display: none;\n",
              "}\n",
              "\n",
              "div.sk-parallel-item,\n",
              "div.sk-serial,\n",
              "div.sk-item {\n",
              "  /* draw centered vertical line to link estimators */\n",
              "  background-image: linear-gradient(var(--sklearn-color-text-on-default-background), var(--sklearn-color-text-on-default-background));\n",
              "  background-size: 2px 100%;\n",
              "  background-repeat: no-repeat;\n",
              "  background-position: center center;\n",
              "}\n",
              "\n",
              "/* Parallel-specific style estimator block */\n",
              "\n",
              "#sk-container-id-1 div.sk-parallel-item::after {\n",
              "  content: \"\";\n",
              "  width: 100%;\n",
              "  border-bottom: 2px solid var(--sklearn-color-text-on-default-background);\n",
              "  flex-grow: 1;\n",
              "}\n",
              "\n",
              "#sk-container-id-1 div.sk-parallel {\n",
              "  display: flex;\n",
              "  align-items: stretch;\n",
              "  justify-content: center;\n",
              "  background-color: var(--sklearn-color-background);\n",
              "  position: relative;\n",
              "}\n",
              "\n",
              "#sk-container-id-1 div.sk-parallel-item {\n",
              "  display: flex;\n",
              "  flex-direction: column;\n",
              "}\n",
              "\n",
              "#sk-container-id-1 div.sk-parallel-item:first-child::after {\n",
              "  align-self: flex-end;\n",
              "  width: 50%;\n",
              "}\n",
              "\n",
              "#sk-container-id-1 div.sk-parallel-item:last-child::after {\n",
              "  align-self: flex-start;\n",
              "  width: 50%;\n",
              "}\n",
              "\n",
              "#sk-container-id-1 div.sk-parallel-item:only-child::after {\n",
              "  width: 0;\n",
              "}\n",
              "\n",
              "/* Serial-specific style estimator block */\n",
              "\n",
              "#sk-container-id-1 div.sk-serial {\n",
              "  display: flex;\n",
              "  flex-direction: column;\n",
              "  align-items: center;\n",
              "  background-color: var(--sklearn-color-background);\n",
              "  padding-right: 1em;\n",
              "  padding-left: 1em;\n",
              "}\n",
              "\n",
              "\n",
              "/* Toggleable style: style used for estimator/Pipeline/ColumnTransformer box that is\n",
              "clickable and can be expanded/collapsed.\n",
              "- Pipeline and ColumnTransformer use this feature and define the default style\n",
              "- Estimators will overwrite some part of the style using the `sk-estimator` class\n",
              "*/\n",
              "\n",
              "/* Pipeline and ColumnTransformer style (default) */\n",
              "\n",
              "#sk-container-id-1 div.sk-toggleable {\n",
              "  /* Default theme specific background. It is overwritten whether we have a\n",
              "  specific estimator or a Pipeline/ColumnTransformer */\n",
              "  background-color: var(--sklearn-color-background);\n",
              "}\n",
              "\n",
              "/* Toggleable label */\n",
              "#sk-container-id-1 label.sk-toggleable__label {\n",
              "  cursor: pointer;\n",
              "  display: flex;\n",
              "  width: 100%;\n",
              "  margin-bottom: 0;\n",
              "  padding: 0.5em;\n",
              "  box-sizing: border-box;\n",
              "  text-align: center;\n",
              "  align-items: start;\n",
              "  justify-content: space-between;\n",
              "  gap: 0.5em;\n",
              "}\n",
              "\n",
              "#sk-container-id-1 label.sk-toggleable__label .caption {\n",
              "  font-size: 0.6rem;\n",
              "  font-weight: lighter;\n",
              "  color: var(--sklearn-color-text-muted);\n",
              "}\n",
              "\n",
              "#sk-container-id-1 label.sk-toggleable__label-arrow:before {\n",
              "  /* Arrow on the left of the label */\n",
              "  content: \"▸\";\n",
              "  float: left;\n",
              "  margin-right: 0.25em;\n",
              "  color: var(--sklearn-color-icon);\n",
              "}\n",
              "\n",
              "#sk-container-id-1 label.sk-toggleable__label-arrow:hover:before {\n",
              "  color: var(--sklearn-color-text);\n",
              "}\n",
              "\n",
              "/* Toggleable content - dropdown */\n",
              "\n",
              "#sk-container-id-1 div.sk-toggleable__content {\n",
              "  max-height: 0;\n",
              "  max-width: 0;\n",
              "  overflow: hidden;\n",
              "  text-align: left;\n",
              "  /* unfitted */\n",
              "  background-color: var(--sklearn-color-unfitted-level-0);\n",
              "}\n",
              "\n",
              "#sk-container-id-1 div.sk-toggleable__content.fitted {\n",
              "  /* fitted */\n",
              "  background-color: var(--sklearn-color-fitted-level-0);\n",
              "}\n",
              "\n",
              "#sk-container-id-1 div.sk-toggleable__content pre {\n",
              "  margin: 0.2em;\n",
              "  border-radius: 0.25em;\n",
              "  color: var(--sklearn-color-text);\n",
              "  /* unfitted */\n",
              "  background-color: var(--sklearn-color-unfitted-level-0);\n",
              "}\n",
              "\n",
              "#sk-container-id-1 div.sk-toggleable__content.fitted pre {\n",
              "  /* unfitted */\n",
              "  background-color: var(--sklearn-color-fitted-level-0);\n",
              "}\n",
              "\n",
              "#sk-container-id-1 input.sk-toggleable__control:checked~div.sk-toggleable__content {\n",
              "  /* Expand drop-down */\n",
              "  max-height: 200px;\n",
              "  max-width: 100%;\n",
              "  overflow: auto;\n",
              "}\n",
              "\n",
              "#sk-container-id-1 input.sk-toggleable__control:checked~label.sk-toggleable__label-arrow:before {\n",
              "  content: \"▾\";\n",
              "}\n",
              "\n",
              "/* Pipeline/ColumnTransformer-specific style */\n",
              "\n",
              "#sk-container-id-1 div.sk-label input.sk-toggleable__control:checked~label.sk-toggleable__label {\n",
              "  color: var(--sklearn-color-text);\n",
              "  background-color: var(--sklearn-color-unfitted-level-2);\n",
              "}\n",
              "\n",
              "#sk-container-id-1 div.sk-label.fitted input.sk-toggleable__control:checked~label.sk-toggleable__label {\n",
              "  background-color: var(--sklearn-color-fitted-level-2);\n",
              "}\n",
              "\n",
              "/* Estimator-specific style */\n",
              "\n",
              "/* Colorize estimator box */\n",
              "#sk-container-id-1 div.sk-estimator input.sk-toggleable__control:checked~label.sk-toggleable__label {\n",
              "  /* unfitted */\n",
              "  background-color: var(--sklearn-color-unfitted-level-2);\n",
              "}\n",
              "\n",
              "#sk-container-id-1 div.sk-estimator.fitted input.sk-toggleable__control:checked~label.sk-toggleable__label {\n",
              "  /* fitted */\n",
              "  background-color: var(--sklearn-color-fitted-level-2);\n",
              "}\n",
              "\n",
              "#sk-container-id-1 div.sk-label label.sk-toggleable__label,\n",
              "#sk-container-id-1 div.sk-label label {\n",
              "  /* The background is the default theme color */\n",
              "  color: var(--sklearn-color-text-on-default-background);\n",
              "}\n",
              "\n",
              "/* On hover, darken the color of the background */\n",
              "#sk-container-id-1 div.sk-label:hover label.sk-toggleable__label {\n",
              "  color: var(--sklearn-color-text);\n",
              "  background-color: var(--sklearn-color-unfitted-level-2);\n",
              "}\n",
              "\n",
              "/* Label box, darken color on hover, fitted */\n",
              "#sk-container-id-1 div.sk-label.fitted:hover label.sk-toggleable__label.fitted {\n",
              "  color: var(--sklearn-color-text);\n",
              "  background-color: var(--sklearn-color-fitted-level-2);\n",
              "}\n",
              "\n",
              "/* Estimator label */\n",
              "\n",
              "#sk-container-id-1 div.sk-label label {\n",
              "  font-family: monospace;\n",
              "  font-weight: bold;\n",
              "  display: inline-block;\n",
              "  line-height: 1.2em;\n",
              "}\n",
              "\n",
              "#sk-container-id-1 div.sk-label-container {\n",
              "  text-align: center;\n",
              "}\n",
              "\n",
              "/* Estimator-specific */\n",
              "#sk-container-id-1 div.sk-estimator {\n",
              "  font-family: monospace;\n",
              "  border: 1px dotted var(--sklearn-color-border-box);\n",
              "  border-radius: 0.25em;\n",
              "  box-sizing: border-box;\n",
              "  margin-bottom: 0.5em;\n",
              "  /* unfitted */\n",
              "  background-color: var(--sklearn-color-unfitted-level-0);\n",
              "}\n",
              "\n",
              "#sk-container-id-1 div.sk-estimator.fitted {\n",
              "  /* fitted */\n",
              "  background-color: var(--sklearn-color-fitted-level-0);\n",
              "}\n",
              "\n",
              "/* on hover */\n",
              "#sk-container-id-1 div.sk-estimator:hover {\n",
              "  /* unfitted */\n",
              "  background-color: var(--sklearn-color-unfitted-level-2);\n",
              "}\n",
              "\n",
              "#sk-container-id-1 div.sk-estimator.fitted:hover {\n",
              "  /* fitted */\n",
              "  background-color: var(--sklearn-color-fitted-level-2);\n",
              "}\n",
              "\n",
              "/* Specification for estimator info (e.g. \"i\" and \"?\") */\n",
              "\n",
              "/* Common style for \"i\" and \"?\" */\n",
              "\n",
              ".sk-estimator-doc-link,\n",
              "a:link.sk-estimator-doc-link,\n",
              "a:visited.sk-estimator-doc-link {\n",
              "  float: right;\n",
              "  font-size: smaller;\n",
              "  line-height: 1em;\n",
              "  font-family: monospace;\n",
              "  background-color: var(--sklearn-color-background);\n",
              "  border-radius: 1em;\n",
              "  height: 1em;\n",
              "  width: 1em;\n",
              "  text-decoration: none !important;\n",
              "  margin-left: 0.5em;\n",
              "  text-align: center;\n",
              "  /* unfitted */\n",
              "  border: var(--sklearn-color-unfitted-level-1) 1pt solid;\n",
              "  color: var(--sklearn-color-unfitted-level-1);\n",
              "}\n",
              "\n",
              ".sk-estimator-doc-link.fitted,\n",
              "a:link.sk-estimator-doc-link.fitted,\n",
              "a:visited.sk-estimator-doc-link.fitted {\n",
              "  /* fitted */\n",
              "  border: var(--sklearn-color-fitted-level-1) 1pt solid;\n",
              "  color: var(--sklearn-color-fitted-level-1);\n",
              "}\n",
              "\n",
              "/* On hover */\n",
              "div.sk-estimator:hover .sk-estimator-doc-link:hover,\n",
              ".sk-estimator-doc-link:hover,\n",
              "div.sk-label-container:hover .sk-estimator-doc-link:hover,\n",
              ".sk-estimator-doc-link:hover {\n",
              "  /* unfitted */\n",
              "  background-color: var(--sklearn-color-unfitted-level-3);\n",
              "  color: var(--sklearn-color-background);\n",
              "  text-decoration: none;\n",
              "}\n",
              "\n",
              "div.sk-estimator.fitted:hover .sk-estimator-doc-link.fitted:hover,\n",
              ".sk-estimator-doc-link.fitted:hover,\n",
              "div.sk-label-container:hover .sk-estimator-doc-link.fitted:hover,\n",
              ".sk-estimator-doc-link.fitted:hover {\n",
              "  /* fitted */\n",
              "  background-color: var(--sklearn-color-fitted-level-3);\n",
              "  color: var(--sklearn-color-background);\n",
              "  text-decoration: none;\n",
              "}\n",
              "\n",
              "/* Span, style for the box shown on hovering the info icon */\n",
              ".sk-estimator-doc-link span {\n",
              "  display: none;\n",
              "  z-index: 9999;\n",
              "  position: relative;\n",
              "  font-weight: normal;\n",
              "  right: .2ex;\n",
              "  padding: .5ex;\n",
              "  margin: .5ex;\n",
              "  width: min-content;\n",
              "  min-width: 20ex;\n",
              "  max-width: 50ex;\n",
              "  color: var(--sklearn-color-text);\n",
              "  box-shadow: 2pt 2pt 4pt #999;\n",
              "  /* unfitted */\n",
              "  background: var(--sklearn-color-unfitted-level-0);\n",
              "  border: .5pt solid var(--sklearn-color-unfitted-level-3);\n",
              "}\n",
              "\n",
              ".sk-estimator-doc-link.fitted span {\n",
              "  /* fitted */\n",
              "  background: var(--sklearn-color-fitted-level-0);\n",
              "  border: var(--sklearn-color-fitted-level-3);\n",
              "}\n",
              "\n",
              ".sk-estimator-doc-link:hover span {\n",
              "  display: block;\n",
              "}\n",
              "\n",
              "/* \"?\"-specific style due to the `<a>` HTML tag */\n",
              "\n",
              "#sk-container-id-1 a.estimator_doc_link {\n",
              "  float: right;\n",
              "  font-size: 1rem;\n",
              "  line-height: 1em;\n",
              "  font-family: monospace;\n",
              "  background-color: var(--sklearn-color-background);\n",
              "  border-radius: 1rem;\n",
              "  height: 1rem;\n",
              "  width: 1rem;\n",
              "  text-decoration: none;\n",
              "  /* unfitted */\n",
              "  color: var(--sklearn-color-unfitted-level-1);\n",
              "  border: var(--sklearn-color-unfitted-level-1) 1pt solid;\n",
              "}\n",
              "\n",
              "#sk-container-id-1 a.estimator_doc_link.fitted {\n",
              "  /* fitted */\n",
              "  border: var(--sklearn-color-fitted-level-1) 1pt solid;\n",
              "  color: var(--sklearn-color-fitted-level-1);\n",
              "}\n",
              "\n",
              "/* On hover */\n",
              "#sk-container-id-1 a.estimator_doc_link:hover {\n",
              "  /* unfitted */\n",
              "  background-color: var(--sklearn-color-unfitted-level-3);\n",
              "  color: var(--sklearn-color-background);\n",
              "  text-decoration: none;\n",
              "}\n",
              "\n",
              "#sk-container-id-1 a.estimator_doc_link.fitted:hover {\n",
              "  /* fitted */\n",
              "  background-color: var(--sklearn-color-fitted-level-3);\n",
              "}\n",
              "</style><div id=\"sk-container-id-1\" class=\"sk-top-container\"><div class=\"sk-text-repr-fallback\"><pre>XGBClassifier(base_score=None, booster=None, callbacks=None,\n",
              "              colsample_bylevel=None, colsample_bynode=None,\n",
              "              colsample_bytree=None, device=None, early_stopping_rounds=None,\n",
              "              enable_categorical=False, eval_metric=&#x27;mlogloss&#x27;,\n",
              "              feature_types=None, gamma=None, grow_policy=None,\n",
              "              importance_type=None, interaction_constraints=None,\n",
              "              learning_rate=0.1, max_bin=None, max_cat_threshold=None,\n",
              "              max_cat_to_onehot=None, max_delta_step=None, max_depth=6,\n",
              "              max_leaves=None, min_child_weight=None, missing=nan,\n",
              "              monotone_constraints=None, multi_strategy=None, n_estimators=100,\n",
              "              n_jobs=None, num_class=15, num_parallel_tree=None, ...)</pre><b>In a Jupyter environment, please rerun this cell to show the HTML representation or trust the notebook. <br />On GitHub, the HTML representation is unable to render, please try loading this page with nbviewer.org.</b></div><div class=\"sk-container\" hidden><div class=\"sk-item\"><div class=\"sk-estimator fitted sk-toggleable\"><input class=\"sk-toggleable__control sk-hidden--visually\" id=\"sk-estimator-id-1\" type=\"checkbox\" checked><label for=\"sk-estimator-id-1\" class=\"sk-toggleable__label fitted sk-toggleable__label-arrow\"><div><div>XGBClassifier</div></div><div><span class=\"sk-estimator-doc-link fitted\">i<span>Fitted</span></span></div></label><div class=\"sk-toggleable__content fitted\"><pre>XGBClassifier(base_score=None, booster=None, callbacks=None,\n",
              "              colsample_bylevel=None, colsample_bynode=None,\n",
              "              colsample_bytree=None, device=None, early_stopping_rounds=None,\n",
              "              enable_categorical=False, eval_metric=&#x27;mlogloss&#x27;,\n",
              "              feature_types=None, gamma=None, grow_policy=None,\n",
              "              importance_type=None, interaction_constraints=None,\n",
              "              learning_rate=0.1, max_bin=None, max_cat_threshold=None,\n",
              "              max_cat_to_onehot=None, max_delta_step=None, max_depth=6,\n",
              "              max_leaves=None, min_child_weight=None, missing=nan,\n",
              "              monotone_constraints=None, multi_strategy=None, n_estimators=100,\n",
              "              n_jobs=None, num_class=15, num_parallel_tree=None, ...)</pre></div> </div></div></div></div>"
            ]
          },
          "metadata": {},
          "execution_count": 30
        }
      ],
      "source": [
        "# Initialize XGBoost classifier\n",
        "\n",
        "import xgboost as xgb\n",
        "\n",
        "xgb_model = xgb.XGBClassifier(\n",
        "    objective=\"multi:softmax\",  # Multi-class classification\n",
        "    num_class=len(np.unique(y_train_resampled)),  # Number of classes\n",
        "    eval_metric=\"mlogloss\",  # Loss function\n",
        "    learning_rate=0.1,\n",
        "    max_depth=6,\n",
        "    n_estimators=100,\n",
        "    use_label_encoder=False\n",
        ")\n",
        "\n",
        "# Train the model\n",
        "xgb_model.fit(X_train_scaled, y_train_resampled)"
      ]
    },
    {
      "cell_type": "code",
      "execution_count": null,
      "metadata": {
        "colab": {
          "base_uri": "https://localhost:8080/"
        },
        "id": "YfHZaUNtjNNu",
        "outputId": "7a36b883-e6f5-4a03-b2de-753186c3ec0c"
      },
      "outputs": [
        {
          "output_type": "stream",
          "name": "stdout",
          "text": [
            "              precision    recall  f1-score   support\n",
            "\n",
            "           0       1.00      0.98      0.99    454265\n",
            "           1       0.57      0.59      0.58       391\n",
            "           2       1.00      1.00      1.00     25605\n",
            "           3       0.98      0.97      0.98      2059\n",
            "           4       0.84      0.99      0.91     46025\n",
            "           5       0.94      0.99      0.96      1100\n",
            "           6       0.99      0.99      0.99      1159\n",
            "           7       0.94      1.00      0.97      1587\n",
            "           8       1.00      1.00      1.00         2\n",
            "           9       1.00      0.43      0.60         7\n",
            "          10       0.99      1.00      0.99     31761\n",
            "          11       1.00      0.52      0.68      1180\n",
            "          12       0.97      0.13      0.22       301\n",
            "          13       0.00      0.00      0.00         4\n",
            "          14       0.33      0.02      0.03       130\n",
            "\n",
            "    accuracy                           0.98    565576\n",
            "   macro avg       0.84      0.71      0.73    565576\n",
            "weighted avg       0.98      0.98      0.98    565576\n",
            "\n"
          ]
        }
      ],
      "source": [
        "# Make predictions\n",
        "y_preds_xgb = xgb_model.predict(X_test_scaled)\n",
        "\n",
        "# Print classification report\n",
        "print(classification_report(y_test, y_preds_xgb))"
      ]
    },
    {
      "cell_type": "markdown",
      "metadata": {
        "id": "CwCZSzkyUWPg"
      },
      "source": [
        "### **12. Visualization**"
      ]
    },
    {
      "cell_type": "code",
      "execution_count": null,
      "metadata": {
        "colab": {
          "base_uri": "https://localhost:8080/",
          "height": 564
        },
        "id": "U3Oyj_YbijGB",
        "outputId": "7f881186-3046-4662-b493-d2269032b5d0"
      },
      "outputs": [
        {
          "output_type": "display_data",
          "data": {
            "text/plain": [
              "<Figure size 800x600 with 2 Axes>"
            ],
            "image/png": "[encoded data removed]"
          },
          "metadata": {}
        }
      ],
      "source": [
        "# Create confusion matrix\n",
        "cm_rf = confusion_matrix(y_test, y_preds)\n",
        "\n",
        "# Plot\n",
        "plt.figure(figsize=(8,6))\n",
        "sns.heatmap(cm_rf, annot=True, fmt=\"d\", cmap=\"Blues\")\n",
        "plt.xlabel(\"Predicted\")\n",
        "plt.ylabel(\"Actual\")\n",
        "plt.title(\"Confusion Matrix - Random Forest\")\n",
        "plt.show()"
      ]
    },
    {
      "cell_type": "code",
      "execution_count": null,
      "metadata": {
        "colab": {
          "base_uri": "https://localhost:8080/",
          "height": 564
        },
        "id": "YvrcEwd5jJFb",
        "outputId": "a347c7f2-9124-4e94-97d4-88475327c1e4"
      },
      "outputs": [
        {
          "output_type": "display_data",
          "data": {
            "text/plain": [
              "<Figure size 1000x600 with 1 Axes>"
            ],
            "image/png": "[encoded data removed]"
          },
          "metadata": {}
        }
      ],
      "source": [
        "# Get feature importance scores\n",
        "importances = features_importance\n",
        "feature_names = selected_col\n",
        "\n",
        "# Plot feature importance\n",
        "plt.figure(figsize=(10,6))\n",
        "plt.barh(feature_names, importances)\n",
        "plt.xlabel(\"Importance Score\")\n",
        "plt.ylabel(\"Feature\")\n",
        "plt.title(\"Feature Importance - Random Forest\")\n",
        "plt.show()"
      ]
    },
    {
      "cell_type": "markdown",
      "metadata": {
        "id": "3_QtmADOb4Rb"
      },
      "source": [
        "## **Let's Build the Neural Network**"
      ]
    },
    {
      "cell_type": "code",
      "execution_count": null,
      "metadata": {
        "id": "YOlPDUJWclfQ"
      },
      "outputs": [],
      "source": [
        "# Import necessary libraries\n",
        "import torch\n",
        "import torch.nn as nn\n",
        "from tqdm.auto import tqdm\n",
        "import torch.optim as optim\n",
        "from torch.utils.data import Dataset, DataLoader"
      ]
    },
    {
      "cell_type": "markdown",
      "metadata": {
        "id": "B8Sd_9SXU0eN"
      },
      "source": [
        "### **1. Set Up Device Agnostic Code**"
      ]
    },
    {
      "cell_type": "code",
      "execution_count": null,
      "metadata": {
        "colab": {
          "base_uri": "https://localhost:8080/",
          "height": 35
        },
        "id": "SrJtjfB3aPFm",
        "outputId": "7788bdbe-9061-4586-cf0f-221d9206529a"
      },
      "outputs": [
        {
          "output_type": "execute_result",
          "data": {
            "text/plain": [
              "'cuda'"
            ],
            "application/vnd.google.colaboratory.intrinsic+json": {
              "type": "string"
            }
          },
          "metadata": {},
          "execution_count": 35
        }
      ],
      "source": [
        "# Device agnostic code\n",
        "device = 'cuda' if torch.cuda.is_available() else 'cpu'\n",
        "device"
      ]
    },
    {
      "cell_type": "markdown",
      "metadata": {
        "id": "C6ngvIAkU-9r"
      },
      "source": [
        "### **2. Create a PyTorch Dataset**"
      ]
    },
    {
      "cell_type": "code",
      "execution_count": null,
      "metadata": {
        "id": "7WVIqxsifpYh"
      },
      "outputs": [],
      "source": [
        "# Let's create the PyTorch Dataset for Neural Network\n",
        "class CyberThreatDataset(Dataset):\n",
        "  def __init__(self,features,labels):\n",
        "    self.features = torch.FloatTensor(features)\n",
        "    self.labels = torch.LongTensor(labels)\n",
        "\n",
        "  def __len__(self):\n",
        "    return len(self.labels)\n",
        "\n",
        "  def __getitem__(self,idx):\n",
        "    return self.features[idx], self.labels[idx]"
      ]
    },
    {
      "cell_type": "markdown",
      "metadata": {
        "id": "SKaSpyDkVE4F"
      },
      "source": [
        "### **3. Define MLP (Multi-layer Perceptron) Model**"
      ]
    },
    {
      "cell_type": "code",
      "execution_count": null,
      "metadata": {
        "id": "CSrDJBLgfpWc"
      },
      "outputs": [],
      "source": [
        "# MLP Architecture\n",
        "class CyberThreatNN(nn.Module):\n",
        "  def __init__(self,input_size,num_classes):\n",
        "    super(CyberThreatNN, self).__init__()\n",
        "\n",
        "    # Create the dynamic layers with the normalization and dropout\n",
        "    self.network = nn.Sequential(\n",
        "        nn.Linear(input_size, 256),\n",
        "        nn.BatchNorm1d(256),\n",
        "        nn.ReLU(),\n",
        "        nn.Dropout(0.4),\n",
        "\n",
        "        nn.Linear(256, 128),\n",
        "        nn.BatchNorm1d(128),\n",
        "        nn.ReLU(),\n",
        "        nn.Dropout(0.3),\n",
        "\n",
        "        nn.Linear(128, 64),\n",
        "        nn.BatchNorm1d(64),\n",
        "        nn.ReLU(),\n",
        "        nn.Dropout(0.2),\n",
        "\n",
        "        nn.Linear(64, num_classes)\n",
        "    )\n",
        "\n",
        "  def forward(self,x):\n",
        "    return self.network(x)"
      ]
    },
    {
      "cell_type": "markdown",
      "metadata": {
        "id": "xEm1sy7kVc8t"
      },
      "source": [
        "### **4. Create DataLoaders and Initilize the Loss_fn, Optimizer and Model**"
      ]
    },
    {
      "cell_type": "code",
      "execution_count": null,
      "metadata": {
        "id": "kdDxUoDCfpUb"
      },
      "outputs": [],
      "source": [
        "# Convert our data to PyTorch Dataset\n",
        "train_dataset = CyberThreatDataset(X_train_scaled, y_train_resampled)\n",
        "test_dataset = CyberThreatDataset(X_test_scaled, y_test)\n",
        "\n",
        "# Create DataLoaders\n",
        "BATCH_SIZE = 256\n",
        "train_loader = DataLoader(train_dataset,\n",
        "                            batch_size=BATCH_SIZE,\n",
        "                            shuffle = True)\n",
        "test_loader = DataLoader(test_dataset,\n",
        "                           batch_size=BATCH_SIZE,\n",
        "                           shuffle=False)\n",
        "\n",
        "# Initilize model, loss, optimizer\n",
        "mlp_model = CyberThreatNN(input_size=X_train_scaled.shape[1],num_classes=len(np.unique(y_train_resampled))).to(device)\n",
        "loss_fn = nn.CrossEntropyLoss()\n",
        "optimizer = optim.AdamW(mlp_model.parameters(),lr = 0.0001, weight_decay = 1e-4)\n",
        "scheduler = optim.lr_scheduler.ReduceLROnPlateau(optimizer,mode='min',factor=0.1,patience=3,verbose=True)"
      ]
    },
    {
      "cell_type": "markdown",
      "metadata": {
        "id": "J-3Ym8U7Vv2O"
      },
      "source": [
        "### **5. Train Function (training loop)**"
      ]
    },
    {
      "cell_type": "code",
      "execution_count": null,
      "metadata": {
        "id": "7pWV5fCUfpSi"
      },
      "outputs": [],
      "source": [
        "# Training function\n",
        "def train_nn(model, train_loader, test_loader, loss_fn, optimizer,device,epochs=10):\n",
        "  # Tracking metrics\n",
        "  train_losses, test_losses = [],[]\n",
        "  train_accs, test_accs = [],[]\n",
        "\n",
        "  # Training Loop\n",
        "  for epoch in tqdm(range(epochs)):\n",
        "    print(f\"Epoch : {epoch+1}/{epochs}:\\n-------\")\n",
        "\n",
        "    # Training phase\n",
        "    model.train()\n",
        "    train_loss, train_correct, train_total = 0.0,0,0\n",
        "\n",
        "    for inputs, labels in train_loader:\n",
        "      inputs, labels = inputs.to(device), labels.to(device)\n",
        "      optimizer.zero_grad()\n",
        "      outputs = model(inputs)\n",
        "      loss = loss_fn(outputs, labels)\n",
        "      loss.backward()\n",
        "      optimizer.step()\n",
        "\n",
        "      train_loss += loss.item()\n",
        "      _,predicted = torch.max(outputs.data,1)\n",
        "      train_total += labels.size(0)\n",
        "      train_correct += (predicted == labels).sum().item()\n",
        "\n",
        "    # Validation phase\n",
        "    model.eval()\n",
        "    test_loss, test_correct, test_total = 0.0,0,0\n",
        "    with torch.no_grad():\n",
        "      for inputs,labels in test_loader:\n",
        "        inputs, labels = inputs.to(device),labels.to(device)\n",
        "        test_outputs = model(inputs)\n",
        "        loss = loss_fn(test_outputs,labels)\n",
        "        test_loss += loss.item()\n",
        "        _,predicted = torch.max(test_outputs.data,1)\n",
        "        test_total += labels.size(0)\n",
        "        test_correct += (predicted == labels).sum().item()\n",
        "\n",
        "    # Calculate the metrics\n",
        "    train_loss = train_loss / len(train_loader)\n",
        "    test_loss = test_loss / len(test_loader)\n",
        "    train_acc = train_correct / train_total\n",
        "    test_acc = test_correct / test_total\n",
        "\n",
        "    # Store the metrics\n",
        "    train_losses.append(train_loss)\n",
        "    test_losses.append(test_loss)\n",
        "    train_accs.append(train_acc)\n",
        "    test_accs.append(test_acc)\n",
        "\n",
        "    # Adjust learning rate\n",
        "    scheduler.step(test_loss)\n",
        "\n",
        "    # print progress\n",
        "    if epochs % 5 ==0: # for 10 epochs we dont need so I put epochs insted of epoch\n",
        "      print(f\"Train Loss: {train_loss:.4f} | Train Acc: {train_acc:.2f} | Test Loss: {test_loss:.4f} | Test Acc: {test_acc:.2f}\")\n",
        "\n",
        "  # Plotting training cureves\n",
        "  plt.figure(figsize=(12,6))\n",
        "\n",
        "  plt.subplot(1,2,1)\n",
        "  plt.plot(train_losses,label='Train Loss')\n",
        "  plt.plot(test_losses,label='Test Loss')\n",
        "  plt.title('Loss Curve')\n",
        "  plt.xlabel('Epochs')\n",
        "  plt.plot('Loss')\n",
        "  plt.legend()\n",
        "\n",
        "  plt.subplot(1,2,2)\n",
        "  plt.plot(train_accs,label='Train Acc')\n",
        "  plt.plot(test_accs,label='Test Acc')\n",
        "  plt.title('Accuracy Curve')\n",
        "  plt.xlabel('Epochs')\n",
        "  plt.ylabel('Accuracy')\n",
        "  plt.legend()\n",
        "\n",
        "  plt.tight_layout()\n",
        "  plt.show()\n",
        "\n",
        "  return model, train_losses, test_losses, train_accs, test_accs"
      ]
    },
    {
      "cell_type": "code",
      "execution_count": null,
      "metadata": {
        "colab": {
          "base_uri": "https://localhost:8080/",
          "height": 1000,
          "referenced_widgets": [
            "d312b295956049caa914f837947003da",
            "ba480190878a4c9a9a7905c64f0e105a",
            "a5e67ce1c3114cd899ff353581e92471",
            "d18f8dd963674314a30228c84e7d3752",
            "9e99df05176241d3884c57813660c79a",
            "fffcd5c69b364f5d93a03d1d5980f74a",
            "5e3d2b4e06004c40bdab526c129aa57d",
            "a7b4afe78a8b4b40a2afed3754e44378",
            "fac1a1d6aade443683a2c13fa4859a69",
            "32e2a8a7c48d4363a2cbdd1d847700d5",
            "8b8c0e8bc79740a2ad283f623b677558"
          ]
        },
        "id": "E-Q7I3b0fpQg",
        "outputId": "12cbfaea-328e-42b8-bf78-2ca29a422ab7"
      },
      "outputs": [
        {
          "output_type": "display_data",
          "data": {
            "text/plain": [
              "  0%|          | 0/10 [00:00<?, ?it/s]"
            ],
            "application/vnd.jupyter.widget-view+json": {
              "version_major": 2,
              "version_minor": 0,
              "model_id": "d312b295956049caa914f837947003da"
            }
          },
          "metadata": {}
        },
        {
          "output_type": "stream",
          "name": "stdout",
          "text": [
            "Epoch : 1/10:\n",
            "-------\n",
            "Train Loss: 0.7442 | Train Acc: 0.73 | Test Loss: 0.3965 | Test Acc: 0.79\n",
            "Epoch : 2/10:\n",
            "-------\n",
            "Train Loss: 0.5561 | Train Acc: 0.77 | Test Loss: 0.4003 | Test Acc: 0.79\n",
            "Epoch : 3/10:\n",
            "-------\n",
            "Train Loss: 0.5236 | Train Acc: 0.78 | Test Loss: 0.3481 | Test Acc: 0.83\n",
            "Epoch : 4/10:\n",
            "-------\n",
            "Train Loss: 0.5015 | Train Acc: 0.79 | Test Loss: 0.3220 | Test Acc: 0.84\n",
            "Epoch : 5/10:\n",
            "-------\n",
            "Train Loss: 0.4827 | Train Acc: 0.80 | Test Loss: 0.2832 | Test Acc: 0.86\n",
            "Epoch : 6/10:\n",
            "-------\n",
            "Train Loss: 0.4652 | Train Acc: 0.81 | Test Loss: 0.2981 | Test Acc: 0.84\n",
            "Epoch : 7/10:\n",
            "-------\n",
            "Train Loss: 0.4498 | Train Acc: 0.82 | Test Loss: 0.2526 | Test Acc: 0.87\n",
            "Epoch : 8/10:\n",
            "-------\n",
            "Train Loss: 0.4350 | Train Acc: 0.82 | Test Loss: 0.3160 | Test Acc: 0.81\n",
            "Epoch : 9/10:\n",
            "-------\n",
            "Train Loss: 0.4212 | Train Acc: 0.83 | Test Loss: 0.2335 | Test Acc: 0.94\n",
            "Epoch : 10/10:\n",
            "-------\n",
            "Train Loss: 0.4103 | Train Acc: 0.83 | Test Loss: 0.2734 | Test Acc: 0.84\n"
          ]
        },
        {
          "output_type": "display_data",
          "data": {
            "text/plain": [
              "<Figure size 1200x600 with 2 Axes>"
            ],
            "image/png": "[encoded data removed]"
          },
          "metadata": {}
        }
      ],
      "source": [
        "model,train_losses, test_losses, train_accs, test_accs = train_nn(mlp_model,train_loader,test_loader,loss_fn,optimizer,device=device)"
      ]
    },
    {
      "cell_type": "markdown",
      "metadata": {
        "id": "8StZIr3kWKSk"
      },
      "source": [
        "### **6. Prediction and Evaluation Function**"
      ]
    },
    {
      "cell_type": "code",
      "execution_count": null,
      "metadata": {
        "id": "ZmAYUmkVfpOo"
      },
      "outputs": [],
      "source": [
        "# Predition and Evaluation Function\n",
        "def evaluate_model(model, X_test,y_test,device):\n",
        "  model.eval()\n",
        "  with torch.no_grad():\n",
        "    inputs = torch.FloatTensor(X_test).to(device)\n",
        "    outputs = model(inputs)\n",
        "    _,predicted = torch.max(outputs.data,1)\n",
        "    predicted = predicted.cpu().numpy()\n",
        "\n",
        "  # Print metrics\n",
        "  print(f\"\\nModel Evaluation Metrics : \")\n",
        "  print(f\"----------------------------\")\n",
        "  print(f\"Accuracy : {accuracy_score(y_test,predicted)}\")\n",
        "  print(f\"Precision : {precision_score(y_test,predicted,average='weighted')}\")\n",
        "  print(f\"Recall : {recall_score(y_test,predicted,average='weighted')}\")\n",
        "  print(f\"F1 Score : {f1_score(y_test,predicted,average='weighted')}\")\n",
        "\n",
        "  print(f\"\\nDetailed Classification Report: \")\n",
        "  print(classification_report(y_test,predicted))\n",
        "\n",
        "  return predicted"
      ]
    },
    {
      "cell_type": "markdown",
      "metadata": {
        "id": "Y8WULU7QWT7t"
      },
      "source": [
        "### **7. Evaluation Metrics for MLP Model**"
      ]
    },
    {
      "cell_type": "code",
      "execution_count": null,
      "metadata": {
        "colab": {
          "base_uri": "https://localhost:8080/"
        },
        "id": "norvq71ufpMj",
        "outputId": "ce7b7b8f-a8de-4171-e1f6-0e0c9e3e2ce2"
      },
      "outputs": [
        {
          "output_type": "stream",
          "name": "stdout",
          "text": [
            "\n",
            "Model Evaluation Metrics : \n",
            "----------------------------\n",
            "Accuracy : 0.8429936913871876\n",
            "Precision : 0.9400293374855296\n",
            "Recall : 0.8429936913871876\n",
            "F1 Score : 0.8732552145516781\n",
            "\n",
            "Detailed Classification Report: \n",
            "              precision    recall  f1-score   support\n",
            "\n",
            "           0       0.99      0.85      0.91    454265\n",
            "           1       0.00      0.00      0.00       391\n",
            "           2       0.89      0.94      0.91     25605\n",
            "           3       0.68      0.90      0.78      2059\n",
            "           4       0.97      0.66      0.79     46025\n",
            "           5       0.71      0.81      0.76      1100\n",
            "           6       0.75      0.48      0.59      1159\n",
            "           7       0.97      0.49      0.65      1587\n",
            "           8       0.00      0.00      0.00         2\n",
            "           9       0.00      0.00      0.00         7\n",
            "          10       0.29      1.00      0.44     31761\n",
            "          11       0.97      0.52      0.67      1180\n",
            "          12       0.00      0.00      0.00       301\n",
            "          13       0.00      0.00      0.00         4\n",
            "          14       0.00      0.00      0.00       130\n",
            "\n",
            "    accuracy                           0.84    565576\n",
            "   macro avg       0.48      0.44      0.43    565576\n",
            "weighted avg       0.94      0.84      0.87    565576\n",
            "\n"
          ]
        }
      ],
      "source": [
        "predicted_labels = evaluate_model(mlp_model,X_test_scaled,y_test,device=device)"
      ]
    },
    {
      "cell_type": "markdown",
      "metadata": {
        "id": "Oi1qmNoMWjZp"
      },
      "source": [
        "### **Since our data is numeric and structured so, the traditional ML model like random forest works best for this kind of data.**\n",
        "\n",
        "### **That's why our MLP model is not worked better for this data. The neural network model works better on the unstructured data.**"
      ]
    },
    {
      "cell_type": "code",
      "source": [],
      "metadata": {
        "id": "lPvkvzpPr1hP"
      },
      "execution_count": null,
      "outputs": []
    }
  ],
  "metadata": {
    "colab": {
      "provenance": [],
      "gpuType": "T4",
      "authorship_tag": "ABX9TyP1xhIhn/AtpBaw1Nnn9t4N",
      "include_colab_link": true
    },
    "kernelspec": {
      "display_name": "Python 3",
      "name": "python3"
    },
    "language_info": {
      "name": "python"
    },
    "widgets": {
      "application/vnd.jupyter.widget-state+json": {
        "d312b295956049caa914f837947003da": {
          "model_module": "@jupyter-widgets/controls",
          "model_name": "HBoxModel",
          "model_module_version": "1.5.0",
          "state": {
            "_dom_classes": [],
            "_model_module": "@jupyter-widgets/controls",
            "_model_module_version": "1.5.0",
            "_model_name": "HBoxModel",
            "_view_count": null,
            "_view_module": "@jupyter-widgets/controls",
            "_view_module_version": "1.5.0",
            "_view_name": "HBoxView",
            "box_style": "",
            "children": [
              "IPY_MODEL_ba480190878a4c9a9a7905c64f0e105a",
              "IPY_MODEL_a5e67ce1c3114cd899ff353581e92471",
              "IPY_MODEL_d18f8dd963674314a30228c84e7d3752"
            ],
            "layout": "IPY_MODEL_9e99df05176241d3884c57813660c79a"
          }
        },
        "ba480190878a4c9a9a7905c64f0e105a": {
          "model_module": "@jupyter-widgets/controls",
          "model_name": "HTMLModel",
          "model_module_version": "1.5.0",
          "state": {
            "_dom_classes": [],
            "_model_module": "@jupyter-widgets/controls",
            "_model_module_version": "1.5.0",
            "_model_name": "HTMLModel",
            "_view_count": null,
            "_view_module": "@jupyter-widgets/controls",
            "_view_module_version": "1.5.0",
            "_view_name": "HTMLView",
            "description": "",
            "description_tooltip": null,
            "layout": "IPY_MODEL_fffcd5c69b364f5d93a03d1d5980f74a",
            "placeholder": "​",
            "style": "IPY_MODEL_5e3d2b4e06004c40bdab526c129aa57d",
            "value": "100%"
          }
        },
        "a5e67ce1c3114cd899ff353581e92471": {
          "model_module": "@jupyter-widgets/controls",
          "model_name": "FloatProgressModel",
          "model_module_version": "1.5.0",
          "state": {
            "_dom_classes": [],
            "_model_module": "@jupyter-widgets/controls",
            "_model_module_version": "1.5.0",
            "_model_name": "FloatProgressModel",
            "_view_count": null,
            "_view_module": "@jupyter-widgets/controls",
            "_view_module_version": "1.5.0",
            "_view_name": "ProgressView",
            "bar_style": "success",
            "description": "",
            "description_tooltip": null,
            "layout": "IPY_MODEL_a7b4afe78a8b4b40a2afed3754e44378",
            "max": 10,
            "min": 0,
            "orientation": "horizontal",
            "style": "IPY_MODEL_fac1a1d6aade443683a2c13fa4859a69",
            "value": 10
          }
        },
        "d18f8dd963674314a30228c84e7d3752": {
          "model_module": "@jupyter-widgets/controls",
          "model_name": "HTMLModel",
          "model_module_version": "1.5.0",
          "state": {
            "_dom_classes": [],
            "_model_module": "@jupyter-widgets/controls",
            "_model_module_version": "1.5.0",
            "_model_name": "HTMLModel",
            "_view_count": null,
            "_view_module": "@jupyter-widgets/controls",
            "_view_module_version": "1.5.0",
            "_view_name": "HTMLView",
            "description": "",
            "description_tooltip": null,
            "layout": "IPY_MODEL_32e2a8a7c48d4363a2cbdd1d847700d5",
            "placeholder": "​",
            "style": "IPY_MODEL_8b8c0e8bc79740a2ad283f623b677558",
            "value": " 10/10 [04:56&lt;00:00, 29.43s/it]"
          }
        },
        "9e99df05176241d3884c57813660c79a": {
          "model_module": "@jupyter-widgets/base",
          "model_name": "LayoutModel",
          "model_module_version": "1.2.0",
          "state": {
            "_model_module": "@jupyter-widgets/base",
            "_model_module_version": "1.2.0",
            "_model_name": "LayoutModel",
            "_view_count": null,
            "_view_module": "@jupyter-widgets/base",
            "_view_module_version": "1.2.0",
            "_view_name": "LayoutView",
            "align_content": null,
            "align_items": null,
            "align_self": null,
            "border": null,
            "bottom": null,
            "display": null,
            "flex": null,
            "flex_flow": null,
            "grid_area": null,
            "grid_auto_columns": null,
            "grid_auto_flow": null,
            "grid_auto_rows": null,
            "grid_column": null,
            "grid_gap": null,
            "grid_row": null,
            "grid_template_areas": null,
            "grid_template_columns": null,
            "grid_template_rows": null,
            "height": null,
            "justify_content": null,
            "justify_items": null,
            "left": null,
            "margin": null,
            "max_height": null,
            "max_width": null,
            "min_height": null,
            "min_width": null,
            "object_fit": null,
            "object_position": null,
            "order": null,
            "overflow": null,
            "overflow_x": null,
            "overflow_y": null,
            "padding": null,
            "right": null,
            "top": null,
            "visibility": null,
            "width": null
          }
        },
        "fffcd5c69b364f5d93a03d1d5980f74a": {
          "model_module": "@jupyter-widgets/base",
          "model_name": "LayoutModel",
          "model_module_version": "1.2.0",
          "state": {
            "_model_module": "@jupyter-widgets/base",
            "_model_module_version": "1.2.0",
            "_model_name": "LayoutModel",
            "_view_count": null,
            "_view_module": "@jupyter-widgets/base",
            "_view_module_version": "1.2.0",
            "_view_name": "LayoutView",
            "align_content": null,
            "align_items": null,
            "align_self": null,
            "border": null,
            "bottom": null,
            "display": null,
            "flex": null,
            "flex_flow": null,
            "grid_area": null,
            "grid_auto_columns": null,
            "grid_auto_flow": null,
            "grid_auto_rows": null,
            "grid_column": null,
            "grid_gap": null,
            "grid_row": null,
            "grid_template_areas": null,
            "grid_template_columns": null,
            "grid_template_rows": null,
            "height": null,
            "justify_content": null,
            "justify_items": null,
            "left": null,
            "margin": null,
            "max_height": null,
            "max_width": null,
            "min_height": null,
            "min_width": null,
            "object_fit": null,
            "object_position": null,
            "order": null,
            "overflow": null,
            "overflow_x": null,
            "overflow_y": null,
            "padding": null,
            "right": null,
            "top": null,
            "visibility": null,
            "width": null
          }
        },
        "5e3d2b4e06004c40bdab526c129aa57d": {
          "model_module": "@jupyter-widgets/controls",
          "model_name": "DescriptionStyleModel",
          "model_module_version": "1.5.0",
          "state": {
            "_model_module": "@jupyter-widgets/controls",
            "_model_module_version": "1.5.0",
            "_model_name": "DescriptionStyleModel",
            "_view_count": null,
            "_view_module": "@jupyter-widgets/base",
            "_view_module_version": "1.2.0",
            "_view_name": "StyleView",
            "description_width": ""
          }
        },
        "a7b4afe78a8b4b40a2afed3754e44378": {
          "model_module": "@jupyter-widgets/base",
          "model_name": "LayoutModel",
          "model_module_version": "1.2.0",
          "state": {
            "_model_module": "@jupyter-widgets/base",
            "_model_module_version": "1.2.0",
            "_model_name": "LayoutModel",
            "_view_count": null,
            "_view_module": "@jupyter-widgets/base",
            "_view_module_version": "1.2.0",
            "_view_name": "LayoutView",
            "align_content": null,
            "align_items": null,
            "align_self": null,
            "border": null,
            "bottom": null,
            "display": null,
            "flex": null,
            "flex_flow": null,
            "grid_area": null,
            "grid_auto_columns": null,
            "grid_auto_flow": null,
            "grid_auto_rows": null,
            "grid_column": null,
            "grid_gap": null,
            "grid_row": null,
            "grid_template_areas": null,
            "grid_template_columns": null,
            "grid_template_rows": null,
            "height": null,
            "justify_content": null,
            "justify_items": null,
            "left": null,
            "margin": null,
            "max_height": null,
            "max_width": null,
            "min_height": null,
            "min_width": null,
            "object_fit": null,
            "object_position": null,
            "order": null,
            "overflow": null,
            "overflow_x": null,
            "overflow_y": null,
            "padding": null,
            "right": null,
            "top": null,
            "visibility": null,
            "width": null
          }
        },
        "fac1a1d6aade443683a2c13fa4859a69": {
          "model_module": "@jupyter-widgets/controls",
          "model_name": "ProgressStyleModel",
          "model_module_version": "1.5.0",
          "state": {
            "_model_module": "@jupyter-widgets/controls",
            "_model_module_version": "1.5.0",
            "_model_name": "ProgressStyleModel",
            "_view_count": null,
            "_view_module": "@jupyter-widgets/base",
            "_view_module_version": "1.2.0",
            "_view_name": "StyleView",
            "bar_color": null,
            "description_width": ""
          }
        },
        "32e2a8a7c48d4363a2cbdd1d847700d5": {
          "model_module": "@jupyter-widgets/base",
          "model_name": "LayoutModel",
          "model_module_version": "1.2.0",
          "state": {
            "_model_module": "@jupyter-widgets/base",
            "_model_module_version": "1.2.0",
            "_model_name": "LayoutModel",
            "_view_count": null,
            "_view_module": "@jupyter-widgets/base",
            "_view_module_version": "1.2.0",
            "_view_name": "LayoutView",
            "align_content": null,
            "align_items": null,
            "align_self": null,
            "border": null,
            "bottom": null,
            "display": null,
            "flex": null,
            "flex_flow": null,
            "grid_area": null,
            "grid_auto_columns": null,
            "grid_auto_flow": null,
            "grid_auto_rows": null,
            "grid_column": null,
            "grid_gap": null,
            "grid_row": null,
            "grid_template_areas": null,
            "grid_template_columns": null,
            "grid_template_rows": null,
            "height": null,
            "justify_content": null,
            "justify_items": null,
            "left": null,
            "margin": null,
            "max_height": null,
            "max_width": null,
            "min_height": null,
            "min_width": null,
            "object_fit": null,
            "object_position": null,
            "order": null,
            "overflow": null,
            "overflow_x": null,
            "overflow_y": null,
            "padding": null,
            "right": null,
            "top": null,
            "visibility": null,
            "width": null
          }
        },
        "8b8c0e8bc79740a2ad283f623b677558": {
          "model_module": "@jupyter-widgets/controls",
          "model_name": "DescriptionStyleModel",
          "model_module_version": "1.5.0",
          "state": {
            "_model_module": "@jupyter-widgets/controls",
            "_model_module_version": "1.5.0",
            "_model_name": "DescriptionStyleModel",
            "_view_count": null,
            "_view_module": "@jupyter-widgets/base",
            "_view_module_version": "1.2.0",
            "_view_name": "StyleView",
            "description_width": ""
          }
        }
      }
    },
    "accelerator": "GPU"
  },
  "nbformat": 4,
  "nbformat_minor": 0
}